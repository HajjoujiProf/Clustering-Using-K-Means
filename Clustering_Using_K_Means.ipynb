{
  "nbformat": 4,
  "nbformat_minor": 0,
  "metadata": {
    "colab": {
      "provenance": [],
      "authorship_tag": "ABX9TyOnzbCim4CgkLOujT3WSNvn",
      "include_colab_link": true
    },
    "kernelspec": {
      "name": "python3",
      "display_name": "Python 3"
    },
    "language_info": {
      "name": "python"
    }
  },
  "cells": [
    {
      "cell_type": "markdown",
      "metadata": {
        "id": "view-in-github",
        "colab_type": "text"
      },
      "source": [
        "<a href=\"https://colab.research.google.com/github/HajjoujiProf/Clustering-Using-K-Means/blob/main/Clustering_Using_K_Means.ipynb\" target=\"_parent\"><img src=\"https://colab.research.google.com/assets/colab-badge.svg\" alt=\"Open In Colab\"/></a>"
      ]
    },
    {
      "cell_type": "code",
      "source": [
        "# Clustering is an unsupervised problem of finding natural groups in the feature space of input data.\n",
        "# There are many different clustering algorithms and no single best method for all datasets.\n",
        "# we can implement, fit, and use \n",
        "# top clustering algorithms in Python with the scikit-learn machine learning library"
      ],
      "metadata": {
        "id": "bvVB_Zxg9-Vu"
      },
      "execution_count": null,
      "outputs": []
    },
    {
      "cell_type": "code",
      "source": [
        "# Examples of Clustering Algorithms\n",
        "\n",
        "   # Library Installation\n",
        "   # Clustering Dataset\n",
        "   # Affinity Propagation\n",
        "   # Agglomerative Clustering\n",
        "   # BIRCH\n",
        "   # DBSCAN\n",
        "   # K-Means\n",
        "   # Mini-Batch K-Means\n",
        "   # Mean Shift\n",
        "   # OPTICS\n",
        "   # Spectral Clustering\n",
        "   # Gaussian Mixture Model\n"
      ],
      "metadata": {
        "id": "sn-QROP7-Sqq"
      },
      "execution_count": null,
      "outputs": []
    },
    {
      "cell_type": "code",
      "execution_count": null,
      "metadata": {
        "id": "536RG2UE0M-i"
      },
      "outputs": [],
      "source": [
        "# importing the libraries\n",
        "import pandas as pd\n",
        "import matplotlib.pyplot as plt\n",
        "from sklearn.cluster import KMeans\n"
      ]
    },
    {
      "cell_type": "code",
      "source": [
        "# loading the dataset\n",
        "dataset = pd.read_csv('/content/sample_data/MallCustomers.csv')\n",
        "\n",
        "# printing first five rows of the dataset\n",
        "print(dataset.head(10))\n"
      ],
      "metadata": {
        "colab": {
          "base_uri": "https://localhost:8080/"
        },
        "id": "15XxEBh50Zh6",
        "outputId": "edc4315e-893e-4c60-a850-95d31e3a8024"
      },
      "execution_count": null,
      "outputs": [
        {
          "output_type": "stream",
          "name": "stdout",
          "text": [
            "   CustomerID  Gender  Age  Annual Income (k$)  Spending Score (1-100)\n",
            "0           1    Male   19                  15                      39\n",
            "1           2    Male   21                  15                      81\n",
            "2           3  Female   20                  16                       6\n",
            "3           4  Female   23                  16                      77\n",
            "4           5  Female   31                  17                      40\n",
            "5           6  Female   22                  17                      76\n",
            "6           7  Female   35                  18                       6\n",
            "7           8  Female   23                  18                      94\n",
            "8           9    Male   64                  19                       3\n",
            "9          10  Female   30                  19                      72\n"
          ]
        }
      ]
    },
    {
      "cell_type": "code",
      "source": [
        "# printing the shape of dataset\n",
        "print(dataset.shape)\n",
        "\n",
        "# checking for any\n",
        "# null values present\n",
        "print(dataset.isnull().sum())\n"
      ],
      "metadata": {
        "colab": {
          "base_uri": "https://localhost:8080/"
        },
        "id": "DnAcJW_51Omd",
        "outputId": "6ef9b2c9-2b94-418d-eaeb-b5f6d486bfcc"
      },
      "execution_count": null,
      "outputs": [
        {
          "output_type": "stream",
          "name": "stdout",
          "text": [
            "(200, 5)\n",
            "CustomerID                0\n",
            "Gender                    0\n",
            "Age                       0\n",
            "Annual Income (k$)        0\n",
            "Spending Score (1-100)    0\n",
            "dtype: int64\n"
          ]
        }
      ]
    },
    {
      "cell_type": "code",
      "source": [
        "# extracting values from two\n",
        "# columns for clustering\n",
        "new_dataset = dataset[['Annual Income (k$)',\n",
        "\t\t\t\t\t'Spending Score (1-100)']].values\n"
      ],
      "metadata": {
        "id": "OOH0UQJe1dtA"
      },
      "execution_count": null,
      "outputs": []
    },
    {
      "cell_type": "code",
      "source": [
        "# determining the maximum number of clusters\n",
        "# using the simple method\n",
        "limit = int((new_dataset.shape[0]//2)**0.5)\n",
        "\n",
        "# selecting optimal value of 'k'\n",
        "# using elbow method\n",
        "\n",
        "# wcss - within cluster sum of\n",
        "# squared distances\n",
        "wcss = {}\n",
        "\n",
        "for k in range(2,limit+1):\n",
        "\tmodel = KMeans(n_clusters=k)\n",
        "\tmodel.fit(new_dataset)\n",
        "\twcss[k] = model.inertia_\n",
        "\t\n",
        "# plotting the wcss values\n",
        "# to find out the elbow value\n",
        "plt.plot(list(wcss.keys()),list(wcss.values()))\n",
        "plt.xlabel('Values of \"k\"')\n",
        "plt.ylabel('WCSS')\n",
        "plt.show()\n"
      ],
      "metadata": {
        "colab": {
          "base_uri": "https://localhost:8080/",
          "height": 279
        },
        "id": "lYlUtkwn2MJU",
        "outputId": "9eb2e0f0-e8a6-474a-ae48-8401adb5d41b"
      },
      "execution_count": null,
      "outputs": [
        {
          "output_type": "display_data",
          "data": {
            "text/plain": [
              "<Figure size 432x288 with 1 Axes>"
            ],
            "image/png": "[encoded data removed]"
          },
          "metadata": {
            "needs_background": "light"
          }
        }
      ]
    },
    {
      "cell_type": "code",
      "source": [
        "# we can observe that the turning point of this curve is at the value of k = 5. \n",
        "# Therefore, we can say that the ‘right’ number of clusters for this data is 5"
      ],
      "metadata": {
        "id": "zo8LxxAq5ePp"
      },
      "execution_count": null,
      "outputs": []
    },
    {
      "cell_type": "code",
      "source": [
        "# importing the libraries\n",
        "import pandas as pd\n",
        "import numpy as np\n",
        "import matplotlib.pyplot as plt\n",
        "from sklearn.cluster import KMeans\n",
        "from sklearn.metrics import silhouette_score\n"
      ],
      "metadata": {
        "id": "AOgYv2Ai52Nc"
      },
      "execution_count": null,
      "outputs": []
    },
    {
      "cell_type": "code",
      "source": [
        "# loading the dataset\n",
        "dataset = pd.read_csv('/content/sample_data/MallCustomers.csv')\n",
        "\n",
        "# printing first five rows of the dataset\n",
        "print(dataset.head(8))\n"
      ],
      "metadata": {
        "colab": {
          "base_uri": "https://localhost:8080/"
        },
        "id": "GwBKIoE36CCz",
        "outputId": "b63fc1f9-256c-43e3-95ca-5e3c4a5eef1e"
      },
      "execution_count": null,
      "outputs": [
        {
          "output_type": "stream",
          "name": "stdout",
          "text": [
            "   CustomerID  Gender  Age  Annual Income (k$)  Spending Score (1-100)\n",
            "0           1    Male   19                  15                      39\n",
            "1           2    Male   21                  15                      81\n",
            "2           3  Female   20                  16                       6\n",
            "3           4  Female   23                  16                      77\n",
            "4           5  Female   31                  17                      40\n",
            "5           6  Female   22                  17                      76\n",
            "6           7  Female   35                  18                       6\n",
            "7           8  Female   23                  18                      94\n"
          ]
        }
      ]
    },
    {
      "cell_type": "code",
      "source": [
        "# printing the shape of dataset\n",
        "print(dataset.shape)\n",
        "\n",
        "# checking for any\n",
        "# null values present\n",
        "print(dataset.isnull().sum())\n"
      ],
      "metadata": {
        "colab": {
          "base_uri": "https://localhost:8080/"
        },
        "id": "aCKYFpMT6SsO",
        "outputId": "c3b1042b-b6dd-4590-b9fb-c7f8c42d8b13"
      },
      "execution_count": null,
      "outputs": [
        {
          "output_type": "stream",
          "name": "stdout",
          "text": [
            "(200, 5)\n",
            "CustomerID                0\n",
            "Gender                    0\n",
            "Age                       0\n",
            "Annual Income (k$)        0\n",
            "Spending Score (1-100)    0\n",
            "dtype: int64\n"
          ]
        }
      ]
    },
    {
      "cell_type": "code",
      "source": [
        "# extracting values from two\n",
        "# columns for clustering\n",
        "new_dataset = dataset[['Annual Income (k$)',\n",
        "\t\t\t\t\t'Spending Score (1-100)']].values\n"
      ],
      "metadata": {
        "id": "RutImnWS6bQf"
      },
      "execution_count": null,
      "outputs": []
    },
    {
      "cell_type": "code",
      "source": [
        "# determining the maximum number of clusters\n",
        "# using the simple method\n",
        "limit = int((new_dataset.shape[0]//2)**0.5)\n",
        "\n",
        "# determining number of clusters\n",
        "# using silhouette score method\n",
        "for k in range(2, limit+1):\n",
        "\tmodel = KMeans(n_clusters=k)\n",
        "\tmodel.fit(new_dataset)\n",
        "\tpred = model.predict(new_dataset)\n",
        "\tscore = silhouette_score(new_dataset, pred)\n",
        "\tprint('Silhouette Score for k = {}: {:<.3f}'.format(k, score))\n"
      ],
      "metadata": {
        "colab": {
          "base_uri": "https://localhost:8080/"
        },
        "id": "V6tkAGBP6mdM",
        "outputId": "b95b3e6f-2ac3-453c-e45f-657841a6abe6"
      },
      "execution_count": null,
      "outputs": [
        {
          "output_type": "stream",
          "name": "stdout",
          "text": [
            "Silhouette Score for k = 2: 0.318\n",
            "Silhouette Score for k = 3: 0.468\n",
            "Silhouette Score for k = 4: 0.493\n",
            "Silhouette Score for k = 5: 0.554\n",
            "Silhouette Score for k = 6: 0.540\n",
            "Silhouette Score for k = 7: 0.529\n",
            "Silhouette Score for k = 8: 0.458\n",
            "Silhouette Score for k = 9: 0.457\n",
            "Silhouette Score for k = 10: 0.451\n"
          ]
        }
      ]
    },
    {
      "cell_type": "code",
      "source": [
        "# Silhouette score is used to evaluate  \n",
        "# the quality of clusters created using clustering algorithms such as K-Means\n",
        "# Determining the number of clusters using silhouette score\n",
        "# sklearn.metrics.silhouette _score() is used to find the score in Python\n",
        "# As we can observe, the value of k = 5 has the highest value i.e. nearest to +1. \n",
        "# we can say that the optimal value of ‘k’ is 5."
      ],
      "metadata": {
        "id": "U04HXA2668X7"
      },
      "execution_count": null,
      "outputs": []
    },
    {
      "cell_type": "code",
      "source": [
        "# clustering the data using Kmeans\n",
        "# using k = 5\n",
        "model = KMeans(n_clusters=5)\n",
        "\n",
        "# predicting the clusters\n",
        "pred = model.fit_predict(new_dataset)\n",
        "\n",
        "# plotting all the clusters\n",
        "colours = ['blue', 'green', 'yellow', 'orange', 'red']\n",
        "\n",
        "for i in np.unique(model.labels_):\n",
        "\tplt.scatter(new_dataset[pred==i, 0],\n",
        "\t\t\t\tnew_dataset[pred==i, 1],\n",
        "\t\t\t\tc = colours[i])\n",
        "\t\n",
        "# plotting the cluster centroids\n",
        "plt.scatter(model.cluster_centers_[:, 0],\n",
        "\t\t\tmodel.cluster_centers_[:, 1],\n",
        "\t\t\ts = 200, # marker size\n",
        "\t\t\tc = 'black')\n",
        "\n",
        "plt.title('K-Means clustering')\n",
        "plt.xlabel('Annual Income (k$)')\n",
        "plt.ylabel('Spending Score Between (1-100)')\n",
        "plt.show()"
      ],
      "metadata": {
        "colab": {
          "base_uri": "https://localhost:8080/",
          "height": 295
        },
        "id": "8U5pyTgH89ou",
        "outputId": "94967ef0-5216-4df5-860a-77fe40125e3f"
      },
      "execution_count": null,
      "outputs": [
        {
          "output_type": "display_data",
          "data": {
            "text/plain": [
              "<Figure size 432x288 with 1 Axes>"
            ],
            "image/png": "[encoded data removed]"
          },
          "metadata": {
            "needs_background": "light"
          }
        }
      ]
    },
    {
      "cell_type": "code",
      "source": [
        "# we can see that five efficient clusters have been formed \n",
        "# which are clearly separable from each other"
      ],
      "metadata": {
        "id": "9D145TFC9gNl"
      },
      "execution_count": null,
      "outputs": []
    }
  ]
}